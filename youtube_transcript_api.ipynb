{
  "cells": [
    {
      "cell_type": "markdown",
      "metadata": {
        "id": "C5zuVyNFaCdo"
      },
      "source": [
        "# LLM으로 유튜브 영상 TEXT 가져와서 번역 및 요약\n",
        "\n",
        "* 라이브러리 : [youtube_transcript_api](https://pypi.org/project/youtube-transcript-api/)\n",
        "* 참고 : [NLP와 LLM 실전 가이드(한빛미디어, 박조은)](https://github.com/corazzon)"
      ]
    },
    {
      "cell_type": "code",
      "execution_count": 3,
      "metadata": {
        "id": "9YUKK_amdCAn",
        "colab": {
          "base_uri": "https://localhost:8080/"
        },
        "outputId": "3ea02f25-d0ee-400d-a8b7-2fc3117e04ac"
      },
      "outputs": [
        {
          "output_type": "stream",
          "name": "stdout",
          "text": [
            "\u001b[?25l   \u001b[90m━━━━━━━━━━━━━━━━━━━━━━━━━━━━━━━━━━━━━━━━\u001b[0m \u001b[32m0.0/74.4 kB\u001b[0m \u001b[31m?\u001b[0m eta \u001b[36m-:--:--\u001b[0m\r\u001b[2K   \u001b[90m━━━━━━━━━━━━━━━━━━━━━━━━━━━━━━━━━━━━━━━━\u001b[0m \u001b[32m74.4/74.4 kB\u001b[0m \u001b[31m4.1 MB/s\u001b[0m eta \u001b[36m0:00:00\u001b[0m\n",
            "\u001b[?25h\u001b[?25l   \u001b[90m━━━━━━━━━━━━━━━━━━━━━━━━━━━━━━━━━━━━━━━━\u001b[0m \u001b[32m0.0/2.5 MB\u001b[0m \u001b[31m?\u001b[0m eta \u001b[36m-:--:--\u001b[0m\r\u001b[2K   \u001b[91m━━━━━━━━━━━━━━━━━━━━━━━━━━━━━━━━━━━━━━━\u001b[0m\u001b[91m╸\u001b[0m \u001b[32m2.5/2.5 MB\u001b[0m \u001b[31m99.5 MB/s\u001b[0m eta \u001b[36m0:00:01\u001b[0m\r\u001b[2K   \u001b[90m━━━━━━━━━━━━━━━━━━━━━━━━━━━━━━━━━━━━━━━━\u001b[0m \u001b[32m2.5/2.5 MB\u001b[0m \u001b[31m54.8 MB/s\u001b[0m eta \u001b[36m0:00:00\u001b[0m\n",
            "\u001b[2K   \u001b[90m━━━━━━━━━━━━━━━━━━━━━━━━━━━━━━━━━━━━━━━━\u001b[0m \u001b[32m485.0/485.0 kB\u001b[0m \u001b[31m35.7 MB/s\u001b[0m eta \u001b[36m0:00:00\u001b[0m\n",
            "\u001b[2K   \u001b[90m━━━━━━━━━━━━━━━━━━━━━━━━━━━━━━━━━━━━━━━━\u001b[0m \u001b[32m443.5/443.5 kB\u001b[0m \u001b[31m33.6 MB/s\u001b[0m eta \u001b[36m0:00:00\u001b[0m\n",
            "\u001b[2K   \u001b[90m━━━━━━━━━━━━━━━━━━━━━━━━━━━━━━━━━━━━━━━━\u001b[0m \u001b[32m786.8/786.8 kB\u001b[0m \u001b[31m41.5 MB/s\u001b[0m eta \u001b[36m0:00:00\u001b[0m\n",
            "\u001b[2K   \u001b[90m━━━━━━━━━━━━━━━━━━━━━━━━━━━━━━━━━━━━━━━━\u001b[0m \u001b[32m45.2/45.2 kB\u001b[0m \u001b[31m3.8 MB/s\u001b[0m eta \u001b[36m0:00:00\u001b[0m\n",
            "\u001b[2K   \u001b[90m━━━━━━━━━━━━━━━━━━━━━━━━━━━━━━━━━━━━━━━━\u001b[0m \u001b[32m50.9/50.9 kB\u001b[0m \u001b[31m4.4 MB/s\u001b[0m eta \u001b[36m0:00:00\u001b[0m\n",
            "\u001b[?25h"
          ]
        }
      ],
      "source": [
        "# 필요한 주요 라이브러리 설치\n",
        "!pip install -Uq langchain langchain_openai langchain_community youtube-transcript-api"
      ]
    },
    {
      "cell_type": "markdown",
      "metadata": {
        "id": "DrrlU4QqDmxl"
      },
      "source": [
        "Imports:"
      ]
    },
    {
      "cell_type": "code",
      "execution_count": 4,
      "metadata": {
        "id": "ohPMkz4zDqxz"
      },
      "outputs": [],
      "source": [
        "import os\n",
        "import textwrap\n",
        "from youtube_transcript_api import YouTubeTranscriptApi\n",
        "from langchain.prompts import PromptTemplate\n",
        "from langchain_openai import ChatOpenAI"
      ]
    },
    {
      "cell_type": "markdown",
      "metadata": {
        "id": "P5b97pOrkkzL"
      },
      "source": [
        "### 코드 설정"
      ]
    },
    {
      "cell_type": "code",
      "execution_count": 12,
      "metadata": {
        "id": "OOk0RrequDbR"
      },
      "outputs": [],
      "source": [
        "# 본인의 OpenAI\n",
        "from google.colab import userdata\n",
        "os.environ[\"OPENAI_API_KEY\"] = userdata.get('OPENAI_API_KEY')"
      ]
    },
    {
      "cell_type": "markdown",
      "metadata": {
        "id": "c-lR8B_Us4FT"
      },
      "source": [
        "#### Youtube Video URL"
      ]
    },
    {
      "cell_type": "code",
      "source": [
        "from youtube_transcript_api import YouTubeTranscriptApi\n",
        "\n",
        "ytt_api = YouTubeTranscriptApi()\n",
        "video_url = \"https://www.youtube.com/watch?v=H14bBuluwB8\" # Grit: The Power of Passion and Perseverance | Angela Lee Duckworth | TED\n",
        "video_id = video_url.split(\"v=\")[-1]\n",
        "fetched_transcript  = ytt_api.fetch(video_id,languages=['en'])"
      ],
      "metadata": {
        "id": "n9qqUGrYhhev"
      },
      "execution_count": 6,
      "outputs": []
    },
    {
      "cell_type": "code",
      "source": [
        "# is iterable\n",
        "for snippet in fetched_transcript:\n",
        "    print(snippet.text)"
      ],
      "metadata": {
        "colab": {
          "base_uri": "https://localhost:8080/"
        },
        "id": "TJskNBUWjXTT",
        "outputId": "2b03bb39-f98c-4bf7-9377-249976f440b7"
      },
      "execution_count": 7,
      "outputs": [
        {
          "output_type": "stream",
          "name": "stdout",
          "text": [
            "Transcriber: Joseph Geni\n",
            "Reviewer: Morton Bast\n",
            "When I was 27 years old,\n",
            "I left a very demanding job\n",
            "in management consulting\n",
            "for a job that was even more\n",
            "demanding: teaching.\n",
            "I went to teach seventh graders math\n",
            "in the New York City public schools.\n",
            "And like any teacher,\n",
            "I made quizzes and tests.\n",
            "I gave out homework assignments.\n",
            "When the work came back,\n",
            "I calculated grades.\n",
            "What struck me was that IQ\n",
            "was not the only difference\n",
            "between my best and my worst students.\n",
            "Some of my strongest performers\n",
            "did not have stratospheric IQ scores.\n",
            "Some of my smartest kids\n",
            "weren't doing so well.\n",
            "And that got me thinking.\n",
            "The kinds of things you need\n",
            "to learn in seventh grade math,\n",
            "sure, they're hard: ratios, decimals,\n",
            "the area of a parallelogram.\n",
            "But these concepts are not impossible,\n",
            "and I was firmly convinced\n",
            "that every one of my students\n",
            "could learn the material\n",
            "if they worked hard and long enough.\n",
            "After several more years of teaching,\n",
            "I came to the conclusion\n",
            "that what we need in education\n",
            "is a much better understanding\n",
            "of students and learning\n",
            "from a motivational perspective,\n",
            "from a psychological perspective.\n",
            "In education, the one thing\n",
            "we know how to measure best is IQ.\n",
            "But what if doing\n",
            "well in school and in life\n",
            "depends on much more\n",
            "than your ability to learn\n",
            "quickly and easily?\n",
            "So I left the classroom,\n",
            "and I went to graduate school\n",
            "to become a psychologist.\n",
            "I started studying kids and adults\n",
            "in all kinds of super\n",
            "challenging settings,\n",
            "and in every study my question was,\n",
            "who is successful here and why?\n",
            "My research team and I went\n",
            "to West Point Military Academy.\n",
            "We tried to predict which cadets\n",
            "would stay in military training\n",
            "and which would drop out.\n",
            "We went to the National Spelling Bee\n",
            "and tried to predict which children\n",
            "would advance farthest in competition.\n",
            "We studied rookie teachers\n",
            "working in really tough neighborhoods,\n",
            "asking which teachers are still\n",
            "going to be here in teaching\n",
            "by the end of the school year,\n",
            "and of those, who will be\n",
            "the most effective\n",
            "at improving learning\n",
            "outcomes for their students?\n",
            "We partnered with private\n",
            "companies, asking,\n",
            "which of these salespeople\n",
            "is going to keep their jobs?\n",
            "And who's going to earn the most money?\n",
            "In all those very different contexts,\n",
            "one characteristic emerged\n",
            "as a significant predictor of success.\n",
            "And it wasn't social intelligence.\n",
            "It wasn't good looks, physical health,\n",
            "and it wasn't IQ.\n",
            "It was grit.\n",
            "Grit is passion and perseverance\n",
            "for very long-term goals.\n",
            "Grit is having stamina.\n",
            "Grit is sticking with your future,\n",
            "day in, day out,\n",
            "not just for the week,\n",
            "not just for the month,\n",
            "but for years,\n",
            "and working really hard\n",
            "to make that future a reality.\n",
            "Grit is living life\n",
            "like it's a marathon, not a sprint.\n",
            "A few years ago,\n",
            "I started studying grit\n",
            "in the Chicago public schools.\n",
            "I asked thousands of high school juniors\n",
            "to take grit questionnaires,\n",
            "and then waited around more than a year\n",
            "to see who would graduate.\n",
            "Turns out that grittier kids\n",
            "were significantly more\n",
            "likely to graduate,\n",
            "even when I matched them\n",
            "on every characteristic I could measure,\n",
            "things like family income,\n",
            "standardized achievement test scores,\n",
            "even how safe kids felt\n",
            "when they were at school.\n",
            "So it's not just at West Point\n",
            "or the National Spelling Bee\n",
            "that grit matters.\n",
            "It's also in school,\n",
            "especially for kids\n",
            "at risk for dropping out.\n",
            "To me, the most shocking thing about grit\n",
            "is how little we know,\n",
            "how little science knows,\n",
            "about building it.\n",
            "Every day, parents and teachers ask me,\n",
            "\"How do I build grit in kids?\n",
            "What do I do to teach kids\n",
            "a solid work ethic?\n",
            "How do I keep them motivated\n",
            "for the long run?\"\n",
            "The honest answer is,\n",
            "I don't know.\n",
            "(Laughter)\n",
            "What I do know is that talent\n",
            "doesn't make you gritty.\n",
            "Our data show very clearly\n",
            "that there are many talented individuals\n",
            "who simply do not follow through\n",
            "on their commitments.\n",
            "In fact, in our data,\n",
            "grit is usually unrelated\n",
            "or even inversely related\n",
            "to measures of talent.\n",
            "So far, the best idea I've heard\n",
            "about building grit in kids\n",
            "is something called \"growth mindset.\"\n",
            "This is an idea developed\n",
            "at Stanford University by Carol Dweck,\n",
            "and it is the belief that the ability\n",
            "to learn is not fixed,\n",
            "that it can change with your effort.\n",
            "Dr. Dweck has shown\n",
            "that when kids read\n",
            "and learn about the brain\n",
            "and how it changes and grows\n",
            "in response to challenge,\n",
            "they're much more likely\n",
            "to persevere when they fail,\n",
            "because they don't believe that failure\n",
            "is a permanent condition.\n",
            "So growth mindset\n",
            "is a great idea for building grit.\n",
            "But we need more.\n",
            "And that's where I'm going\n",
            "to end my remarks,\n",
            "because that's where we are.\n",
            "That's the work that stands before us.\n",
            "We need to take our best ideas,\n",
            "our strongest intuitions,\n",
            "and we need to test them.\n",
            "We need to measure\n",
            "whether we've been successful,\n",
            "and we have to be willing\n",
            "to fail, to be wrong,\n",
            "to start over again with lessons learned.\n",
            "In other words, we need to be gritty\n",
            "about getting our kids grittier.\n",
            "Thank you.\n",
            "(Applause)\n"
          ]
        }
      ]
    },
    {
      "cell_type": "code",
      "source": [
        "english_text = \" \".join([snippet.text for snippet in fetched_transcript])\n",
        "english_text"
      ],
      "metadata": {
        "colab": {
          "base_uri": "https://localhost:8080/",
          "height": 92
        },
        "id": "LvNTL-K1j2B1",
        "outputId": "7f936dd8-02ce-438e-b08d-19a285a1051c"
      },
      "execution_count": 8,
      "outputs": [
        {
          "output_type": "execute_result",
          "data": {
            "text/plain": [
              "'Transcriber: Joseph Geni\\nReviewer: Morton Bast When I was 27 years old, I left a very demanding job\\nin management consulting for a job that was even more\\ndemanding: teaching. I went to teach seventh graders math in the New York City public schools. And like any teacher,\\nI made quizzes and tests. I gave out homework assignments. When the work came back,\\nI calculated grades. What struck me was that IQ\\nwas not the only difference between my best and my worst students. Some of my strongest performers\\ndid not have stratospheric IQ scores. Some of my smartest kids\\nweren\\'t doing so well. And that got me thinking. The kinds of things you need\\nto learn in seventh grade math, sure, they\\'re hard: ratios, decimals,\\nthe area of a parallelogram. But these concepts are not impossible, and I was firmly convinced\\nthat every one of my students could learn the material if they worked hard and long enough. After several more years of teaching, I came to the conclusion\\nthat what we need in education is a much better understanding\\nof students and learning from a motivational perspective, from a psychological perspective. In education, the one thing\\nwe know how to measure best is IQ. But what if doing\\nwell in school and in life depends on much more than your ability to learn\\nquickly and easily? So I left the classroom, and I went to graduate school\\nto become a psychologist. I started studying kids and adults in all kinds of super\\nchallenging settings, and in every study my question was, who is successful here and why? My research team and I went\\nto West Point Military Academy. We tried to predict which cadets would stay in military training\\nand which would drop out. We went to the National Spelling Bee and tried to predict which children\\nwould advance farthest in competition. We studied rookie teachers\\nworking in really tough neighborhoods, asking which teachers are still\\ngoing to be here in teaching by the end of the school year, and of those, who will be\\nthe most effective at improving learning\\noutcomes for their students? We partnered with private\\ncompanies, asking, which of these salespeople\\nis going to keep their jobs? And who\\'s going to earn the most money? In all those very different contexts, one characteristic emerged\\nas a significant predictor of success. And it wasn\\'t social intelligence. It wasn\\'t good looks, physical health, and it wasn\\'t IQ. It was grit. Grit is passion and perseverance\\nfor very long-term goals. Grit is having stamina. Grit is sticking with your future,\\nday in, day out, not just for the week,\\nnot just for the month, but for years, and working really hard\\nto make that future a reality. Grit is living life\\nlike it\\'s a marathon, not a sprint. A few years ago, I started studying grit\\nin the Chicago public schools. I asked thousands of high school juniors to take grit questionnaires, and then waited around more than a year to see who would graduate. Turns out that grittier kids were significantly more\\nlikely to graduate, even when I matched them\\non every characteristic I could measure, things like family income, standardized achievement test scores, even how safe kids felt\\nwhen they were at school. So it\\'s not just at West Point\\nor the National Spelling Bee that grit matters. It\\'s also in school, especially for kids\\nat risk for dropping out. To me, the most shocking thing about grit is how little we know, how little science knows,\\nabout building it. Every day, parents and teachers ask me, \"How do I build grit in kids? What do I do to teach kids\\na solid work ethic? How do I keep them motivated\\nfor the long run?\" The honest answer is, I don\\'t know. (Laughter) What I do know is that talent\\ndoesn\\'t make you gritty. Our data show very clearly that there are many talented individuals who simply do not follow through\\non their commitments. In fact, in our data,\\ngrit is usually unrelated or even inversely related\\nto measures of talent. So far, the best idea I\\'ve heard\\nabout building grit in kids is something called \"growth mindset.\" This is an idea developed\\nat Stanford University by Carol Dweck, and it is the belief that the ability\\nto learn is not fixed, that it can change with your effort. Dr. Dweck has shown that when kids read\\nand learn about the brain and how it changes and grows\\nin response to challenge, they\\'re much more likely\\nto persevere when they fail, because they don\\'t believe that failure\\nis a permanent condition. So growth mindset\\nis a great idea for building grit. But we need more. And that\\'s where I\\'m going\\nto end my remarks, because that\\'s where we are. That\\'s the work that stands before us. We need to take our best ideas,\\nour strongest intuitions, and we need to test them. We need to measure\\nwhether we\\'ve been successful, and we have to be willing\\nto fail, to be wrong, to start over again with lessons learned. In other words, we need to be gritty about getting our kids grittier. Thank you. (Applause)'"
            ],
            "application/vnd.google.colaboratory.intrinsic+json": {
              "type": "string"
            }
          },
          "metadata": {},
          "execution_count": 8
        }
      ]
    },
    {
      "cell_type": "markdown",
      "metadata": {
        "id": "dp7q88ydmqOo"
      },
      "source": [
        "## 검토, 요약, 다국어 번역"
      ]
    },
    {
      "cell_type": "code",
      "execution_count": 15,
      "metadata": {
        "colab": {
          "base_uri": "https://localhost:8080/"
        },
        "id": "GbybH9z-ddbM",
        "outputId": "5435727c-ae69-4c59-ade2-cc5976e680c1"
      },
      "outputs": [
        {
          "output_type": "stream",
          "name": "stdout",
          "text": [
            "영어 요약  \n",
            "The speaker reflects on their transition from management consulting to teaching seventh graders in New York City, discovering that success in education is influenced by factors beyond IQ. This realization led them to pursue a career in psychology, focusing on understanding what contributes to success in various challenging environments. Their research highlighted that \"grit,\" defined as passion and perseverance for long-term goals, emerged as a significant predictor of success. Notably, students with higher grit levels were more likely to graduate, regardless of other factors. The speaker emphasizes the importance of promoting grit and acknowledges the need for further exploration on how to effectively cultivate it in children.\n",
            "\n",
            "----\n",
            "한국어 번역  \n",
            "강연자는 경영 컨설팅에서 뉴욕시의 7학년 학생들을 가르치는 일로 전환한 경험을 반영하며, 교육에서 성공은 IQ 이상의 여러 요인에 영향을 받는다고 발견했습니다. 이 깨달음은 그들을 심리학 분야로 나아가게 하였고, 다양한 도전적인 환경에서 성공의 요인이 무엇인지 이해하는 데 집중하게 했습니다. 그들의 연구 결과 \"그릿\" 즉, 장기적인 목표를 위한 열정과 인내가 성공의 중요한 예측 요소로 떠올랐습니다. 특히, 그릿이 높은 학생들은 다른 요인과 무관하게 졸업할 가능성이 더 높았습니다. 강연자는 그릿을 촉진하는 것의 중요성을 강조하고, 아이들에게 효과적으로 그릿을 기르는 방법에 대한 추가 탐구가 필요하다고 인정합니다.  \n",
            "****\n",
            "중국어 번역  \n",
            "演讲者反思了他们从管理咨询转向在纽约市教授七年级学生的经历，发现教育成功受到智商以外其他因素的影响。这个认识促使他们追求心理学职业，专注于理解在各种具有挑战性的环境中，成功的因素是什么。研究表明，“毅力”是成功的重要预测因素，它被定义为对长期目标的热情和坚持。值得注意的是，即使在其他因素相同的情况下，拥有更高毅力的学生更有可能毕业。演讲者强调了促进毅力的重要性，并承认需要进一步探索如何有效地培养孩子的毅力。  \n",
            "====\n",
            "日本語訳  \n",
            "話者は、経営コンサルティングからニューヨーク市の7年生の生徒を教えることに移行した経験を振り返り、教育における成功はIQ以上の様々な要因に影響されることを発見しました。この気づきは、心理学のキャリアを追求するきっかけとなり、さまざまな困難な環境における成功の要因を理解することに焦点を当てました。彼らの研究は、「グリット」という長期的な目標に対する情熱と忍耐が成功の重要な予測因子であることを示しました。特に、グリットが高い生徒は、他の要因に関係なく、卒業する可能性が高いことがわかりました。話者は、グリットを促進する重要性を強調し、子供たちにグリットを効果的に育てる方法についてのさらなる探求が必要であると認めます。\n",
            "\n",
            "요약 및 번역 결과:\n",
            "\n",
            "영어 요약   The speaker reflects on their transition\n",
            "from management consulting to teaching seventh\n",
            "graders in New York City, discovering that success\n",
            "in education is influenced by factors beyond IQ.\n",
            "This realization led them to pursue a career in\n",
            "psychology, focusing on understanding what\n",
            "contributes to success in various challenging\n",
            "environments. Their research highlighted that\n",
            "\"grit,\" defined as passion and perseverance for\n",
            "long-term goals, emerged as a significant\n",
            "predictor of success. Notably, students with\n",
            "higher grit levels were more likely to graduate,\n",
            "regardless of other factors. The speaker\n",
            "emphasizes the importance of promoting grit and\n",
            "acknowledges the need for further exploration on\n",
            "how to effectively cultivate it in children.  ----\n",
            "한국어 번역   강연자는 경영 컨설팅에서 뉴욕시의 7학년 학생들을 가르치는 일로 전환한\n",
            "경험을 반영하며, 교육에서 성공은 IQ 이상의 여러 요인에 영향을 받는다고 발견했습니다.\n",
            "이 깨달음은 그들을 심리학 분야로 나아가게 하였고, 다양한 도전적인 환경에서 성공의 요인이\n",
            "무엇인지 이해하는 데 집중하게 했습니다. 그들의 연구 결과 \"그릿\" 즉, 장기적인 목표를\n",
            "위한 열정과 인내가 성공의 중요한 예측 요소로 떠올랐습니다. 특히, 그릿이 높은 학생들은\n",
            "다른 요인과 무관하게 졸업할 가능성이 더 높았습니다. 강연자는 그릿을 촉진하는 것의\n",
            "중요성을 강조하고, 아이들에게 효과적으로 그릿을 기르는 방법에 대한 추가 탐구가 필요하다고\n",
            "인정합니다.   **** 중국어 번역   演讲者反思了他们从管理咨询转向在纽约市教授七年级学生的\n",
            "经历，发现教育成功受到智商以外其他因素的影响。这个认识促使他们追求心理学职业，专注于理解在各种具有挑\n",
            "战性的环境中，成功的因素是什么。研究表明，“毅力”是成功的重要预测因素，它被定义为对长期目标的热情和\n",
            "坚持。值得注意的是，即使在其他因素相同的情况下，拥有更高毅力的学生更有可能毕业。演讲者强调了促进毅力\n",
            "的重要性，并承认需要进一步探索如何有效地培养孩子的毅力。   ==== 日本語訳   話者は、経営コ\n",
            "ンサルティングからニューヨーク市の7年生の生徒を教えることに移行した経験を振り返り、教育における成功\n",
            "はIQ以上の様々な要因に影響されることを発見しました。この気づきは、心理学のキャリアを追求するきっか\n",
            "けとなり、さまざまな困難な環境における成功の要因を理解することに焦点を当てました。彼らの研究は、「グ\n",
            "リット」という長期的な目標に対する情熱と忍耐が成功の重要な予測因子であることを示しました。特に、グリ\n",
            "ットが高い生徒は、他の要因に関係なく、卒業する可能性が高いことがわかりました。話者は、グリットを促進\n",
            "する重要性を強調し、子供たちにグリットを効果的に育てる方法についてのさらなる探求が必要であると認めま\n",
            "す。\n"
          ]
        }
      ],
      "source": [
        "# 모델 설정\n",
        "llm = ChatOpenAI(model=\"gpt-4o-mini\")\n",
        "\n",
        "user_prompt_template = \"\"\"\n",
        "다음 지시를 순서대로 수행하세요.\n",
        "\n",
        "1. 제공된 전체 텍스트를 주의 깊게 읽고, 핵심 내용을 5문장 길이의 영어 문장으로 요약합니다.\n",
        "2. 요약문이 원문과 의미가 일치하는지 검토하고, 필요한 경우 정확성을 위해 수정합니다.\n",
        "3. 완성된 영어 요약을 한국어, 중국어, 일본어 순으로 번역합니다.\n",
        "4. 출력은 아래 구분 기호 형식을 정확히 지켜서 작성합니다.\n",
        "\n",
        "[출력 형식]\n",
        "영어 요약\n",
        "----\n",
        "한국어 번역\n",
        "****\n",
        "중국어 번역\n",
        "====\n",
        "일본어 번역\n",
        "\n",
        "영어로 작성할 원문:\n",
        "{content}\n",
        "\"\"\"\n",
        "\n",
        "\n",
        "# 프롬프트 정의\n",
        "summary_prompt = PromptTemplate(template=user_prompt_template,\n",
        "                                input_variables=[\"content\"])\n",
        "\n",
        "# 체인 구성\n",
        "summary_chain = summary_prompt | llm\n",
        "\n",
        "# 요약 및 번역 수행\n",
        "prompt_input = summary_prompt.format(content=english_text)  # 프롬프트 텍스트로 변환\n",
        "original_answer = summary_chain.invoke(prompt_input)       # 텍스트 입력\n",
        "print(original_answer.content)\n",
        "\n",
        "# 결과 출력\n",
        "print(\"\\n요약 및 번역 결과:\\n\")\n",
        "print(textwrap.fill(\n",
        "    str(original_answer.content), width=50, replace_whitespace=True))\n"
      ]
    },
    {
      "cell_type": "code",
      "execution_count": 14,
      "metadata": {
        "colab": {
          "base_uri": "https://localhost:8080/"
        },
        "id": "shu0-vz0Xrj8",
        "outputId": "a95e19b5-278a-4956-f1a7-91b54307011e"
      },
      "outputs": [
        {
          "output_type": "stream",
          "name": "stdout",
          "text": [
            "\n",
            "한국어 주요 요점:\n",
            "\n",
            "- 저자는 27세에 경영 컨설팅에서 뉴욕 7학년 수학 교육으로 전환하며 IQ만으로 학업 성취를 설명할 수 없음을 깨달았다.\n",
            "- 이 깨달음은 동기와 심리학 이해에 집중하게 했고, 이후 심리학자로서 성공의 예측 요소를 연구하였다.\n",
            "- 연구 결과, 장기 목표에 대한 열정과 인내인 '그릿'이 성공의 핵심 요소임을 발견했으며, 높은 그릿 수준을 가진 학생들이 졸업할 가능성이 더 높았다.\n",
            "- 그릿의 중요성 인식에도 불구하고, 저자는 이를 배양하는 방법에 대한 과학적 이해가 더 필요하다고 강조했다.\n",
            "- 저자는 성장 마인드셋이 그릿을 발전시키는 데 도움이 될 수 있다고 제안했다.\n"
          ]
        }
      ],
      "source": [
        "# 주요 요점 추출 프롬프트 템플릿 정의\n",
        "system_prompt_template = \"\"\"\n",
        "당신은 간결하고 명확한 요점을 제공하는 전문가입니다.\n",
        "이전 질문에 대한 답변은 다음과 같습니다: <{original_answer}>\n",
        "이 한국어 답변을 3-5개의 주요 요점으로 정리해 주세요.\n",
        "각 요점은 글머리 기호로 시작하는 한국어로만 작성해 주세요.\n",
        "\"\"\"\n",
        "system_prompt_template = PromptTemplate(template=system_prompt_template,\n",
        "                                   input_variables=[\"original_answer\"])\n",
        "\n",
        "# 체인 구성 (RunnableSequence 사용)\n",
        "summary_chain = system_prompt_template | llm\n",
        "\n",
        "# 요점 추출 수행\n",
        "summary = summary_chain.invoke({\"original_answer\": original_answer})  # .invoke 사용\n",
        "\n",
        "# 결과 출력\n",
        "print(\"\\n한국어 주요 요점:\\n\")\n",
        "print(summary.content)"
      ]
    },
    {
      "cell_type": "code",
      "execution_count": null,
      "metadata": {
        "id": "uAmHCQVxIFXW"
      },
      "outputs": [],
      "source": []
    }
  ],
  "metadata": {
    "colab": {
      "provenance": []
    },
    "kernelspec": {
      "display_name": "Python 3 (ipykernel)",
      "language": "python",
      "name": "python3"
    },
    "language_info": {
      "codemirror_mode": {
        "name": "ipython",
        "version": 3
      },
      "file_extension": ".py",
      "mimetype": "text/x-python",
      "name": "python",
      "nbconvert_exporter": "python",
      "pygments_lexer": "ipython3",
      "version": "3.11.4"
    }
  },
  "nbformat": 4,
  "nbformat_minor": 0
}